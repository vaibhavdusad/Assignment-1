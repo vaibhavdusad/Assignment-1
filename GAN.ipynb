{
  "nbformat": 4,
  "nbformat_minor": 0,
  "metadata": {
    "colab": {
      "name": "GAN.ipynb",
      "version": "0.3.2",
      "provenance": [],
      "include_colab_link": true
    },
    "kernelspec": {
      "name": "python3",
      "display_name": "Python 3"
    },
    "accelerator": "GPU"
  },
  "cells": [
    {
      "cell_type": "markdown",
      "metadata": {
        "id": "view-in-github",
        "colab_type": "text"
      },
      "source": [
        "<a href=\"https://colab.research.google.com/github/vaibhavdusad/Assignment-1/blob/master/GAN.ipynb\" target=\"_parent\"><img src=\"https://colab.research.google.com/assets/colab-badge.svg\" alt=\"Open In Colab\"/></a>"
      ]
    },
    {
      "metadata": {
        "id": "Dki3t9bK0fTe",
        "colab_type": "code",
        "colab": {}
      },
      "cell_type": "code",
      "source": [
        "import numpy as np\n",
        "import torch\n",
        "from torchvision import datasets, transforms\n",
        "import torch.nn as nn\n",
        "import torch.nn.functional as F\n",
        "%matplotlib inline\n",
        "import torch.optim as optim\n",
        "from torch.autograd import variable\n",
        "import matplotlib.pyplot as plt\n",
        "import time\n",
        "from torch.autograd import Variable\n",
        "import torchvision\n"
      ],
      "execution_count": 0,
      "outputs": []
    },
    {
      "metadata": {
        "id": "pfjAOnC16LrT",
        "colab_type": "code",
        "outputId": "4101fafb-e8d2-4de7-980e-7e6283a134e0",
        "colab": {
          "base_uri": "https://localhost:8080/",
          "height": 34
        }
      },
      "cell_type": "code",
      "source": [
        "from google.colab import drive\n",
        "drive.mount('/content/drive')\n",
        "import os\n",
        "os.chdir('/content/drive/My Drive/')"
      ],
      "execution_count": 3,
      "outputs": [
        {
          "output_type": "stream",
          "text": [
            "Drive already mounted at /content/drive; to attempt to forcibly remount, call drive.mount(\"/content/drive\", force_remount=True).\n"
          ],
          "name": "stdout"
        }
      ]
    },
    {
      "metadata": {
        "id": "Fn3MhMe06Uib",
        "colab_type": "code",
        "colab": {}
      },
      "cell_type": "code",
      "source": [
        "applytransform=transforms.Compose([transforms.ToTensor()])\n",
        "TrainMnist = datasets.MNIST('/MNIST',train=True,download=True,transform=applytransform)\n",
        "TestMnist = datasets.MNIST('MNIST',train=False,download=True,transform=applytransform)"
      ],
      "execution_count": 0,
      "outputs": []
    },
    {
      "metadata": {
        "id": "p8vfh46B7NMA",
        "colab_type": "code",
        "colab": {}
      },
      "cell_type": "code",
      "source": [
        "class EncoderNet(nn.Module):\n",
        "  def __init__(self):\n",
        "    super(EncoderNet,self).__init__()\n",
        "    self.fc1 = nn.Linear(784,400)\n",
        "    self.fc2 = nn.Linear(400,100)\n",
        "    self.fc3 = nn.Linear(100,2)\n",
        "  def forward(self,x):\n",
        "    x = x.view(-1,784)\n",
        "    x = torch.sigmoid(self.fc1(x))\n",
        "    x = torch.sigmoid(self.fc2(x))\n",
        "    x = torch.sigmoid(self.fc3(x))\n",
        "    return x"
      ],
      "execution_count": 0,
      "outputs": []
    },
    {
      "metadata": {
        "id": "t6VVQgDe-OlF",
        "colab_type": "code",
        "colab": {}
      },
      "cell_type": "code",
      "source": [
        "class DecoderNet(nn.Module):\n",
        "  def __init__(self):\n",
        "    super(DecoderNet,self).__init__()\n",
        "    self.fc1 = nn.Linear(2,100)\n",
        "    self.fc2 = nn.Linear(100,400)\n",
        "    self.fc3 = nn.Linear(400,784)\n",
        "  def forward(self,x):\n",
        "    x = torch.sigmoid(self.fc1(x))\n",
        "    x = torch.sigmoid(self.fc2(x))\n",
        "    x = torch.sigmoid(self.fc3(x))\n",
        "    x = x.view(-1,1,28,28)\n",
        "    return x"
      ],
      "execution_count": 0,
      "outputs": []
    },
    {
      "metadata": {
        "id": "xRA58ayg_FN5",
        "colab_type": "code",
        "colab": {}
      },
      "cell_type": "code",
      "source": [
        "class DiscriminatorNet(nn.Module):\n",
        "  def __init__(self):\n",
        "    super(DiscriminatorNet,self).__init__()\n",
        "    self.fc1 = nn.Linear(2,10)\n",
        "    self.fc2 = nn.Linear(10,10)\n",
        "    self.fc3 = nn.Linear(10,2)\n",
        "  def forward(self,x):\n",
        "    x = torch.sigmoid(self.fc1(x))\n",
        "    x = torch.sigmoid(self.fc2(x))\n",
        "    x = torch.sigmoid(self.fc3(x))\n",
        "    return x"
      ],
      "execution_count": 0,
      "outputs": []
    },
    {
      "metadata": {
        "id": "K8oyPOR7wr6q",
        "colab_type": "code",
        "colab": {}
      },
      "cell_type": "code",
      "source": [
        "encoder = EncoderNet().cuda()\n",
        "decoder = DecoderNet().cuda()\n",
        "disc = DiscriminatorNet().cuda()"
      ],
      "execution_count": 0,
      "outputs": []
    },
    {
      "metadata": {
        "id": "biWaPtUdvMeE",
        "colab_type": "code",
        "colab": {}
      },
      "cell_type": "code",
      "source": [
        "criterion1 = nn.MSELoss()\n",
        "criterion2 = nn.BCELoss()\n",
        "optimizer1 = optim.Adam(encoder.parameters(),lr = 1e-2)\n",
        "optimizer2 = optim.Adam(decoder.parameters(),lr = 1e-2)\n",
        "optimizer3 = optim.Adam(disc.parameters(),lr = 1e-2)"
      ],
      "execution_count": 0,
      "outputs": []
    },
    {
      "metadata": {
        "id": "Ewivk6xjwWzM",
        "colab_type": "code",
        "colab": {}
      },
      "cell_type": "code",
      "source": [
        "batchsize = 96"
      ],
      "execution_count": 0,
      "outputs": []
    },
    {
      "metadata": {
        "id": "aoZRINXW_okr",
        "colab_type": "code",
        "colab": {}
      },
      "cell_type": "code",
      "source": [
        "Trainloader=torch.utils.data.DataLoader(TrainMnist,batch_size=batchsize,shuffle=True,num_workers=4)\n",
        "Testloader=torch.utils.data.DataLoader(TestMnist,batch_size=batchsize,shuffle=True,num_workers=4)"
      ],
      "execution_count": 0,
      "outputs": []
    },
    {
      "metadata": {
        "id": "ySK3evzHGGQV",
        "colab_type": "code",
        "outputId": "730cac99-72eb-4fcc-d507-12c0ac94c6cd",
        "colab": {
          "base_uri": "https://localhost:8080/",
          "height": 1577
        }
      },
      "cell_type": "code",
      "source": [
        "for epoch in range(10):\n",
        "  trainingloss = []\n",
        "  runningloss = 0\n",
        "  adversarial_loss = 0\n",
        "  reconstruction_loss = 0\n",
        "\n",
        "  disc.train(True)\n",
        "  for data in Trainloader:\n",
        "    \n",
        "    inputs,_ = data\n",
        "    inputs = Variable(inputs.cuda())\n",
        "    \n",
        "    optimizer1.zero_grad()\n",
        "    optimizer2.zero_grad()\n",
        "    \n",
        "\n",
        "    outputsencoder = encoder(inputs) #Encoder Output\n",
        "    outputs = decoder(outputsencoder)    #Decoder Output\n",
        "    loss = criterion1(outputs,inputs) #Loss\n",
        "    loss.backward(retain_graph=True)\n",
        "    optimizer2.step() #Optimizing decoder\n",
        "\n",
        "    optimizer1.zero_grad()\n",
        "    optimizer3.zero_grad() \n",
        "    \n",
        "    real_inputs = Variable(torch.tensor(np.random.normal(size = [batchsize,2])).float().cuda())    \n",
        "    one = torch.ones(batchsize,2).float()\n",
        "    zero = torch.zeros(batchsize,2).float()\n",
        "    labels1 = Variable(one.cuda())\n",
        "    labels2 = Variable(zero.cuda())    \n",
        "    \n",
        "    fake_data = disc(outputsencoder) #Discriminator output for fake_data\n",
        "    real_data = disc(real_inputs)   #Discriminator output for Real_Data\n",
        "            \n",
        "    loss_real = criterion2(real_data,labels1)\n",
        "    loss_fake = criterion2(fake_data,labels2)    \n",
        "    lossnew = loss_real + loss_fake  \n",
        "    lossnew.backward(retain_graph=True) #loss_discriminator\n",
        "    optimizer3.step()\n",
        "    lossenc = loss - lossnew*(0.01) #loss_encoder\n",
        "    lossenc.backward(retain_graph=True)\n",
        "    optimizer1.step()\n",
        "    \n",
        "    #adversarial_loss += lossenc.data.item()\n",
        "    reconstruction_loss += loss.data.item()\n",
        "  #totaladloss = adversarial_loss/625\n",
        "  totalreloss = reconstruction_loss/625\n",
        "  print(decoder.fc2.weight.data)\n",
        "  print(\"Adverserial loss : %  and Reconstruction loss = %\",(totaladloss,totalreloss))"
      ],
      "execution_count": 22,
      "outputs": [
        {
          "output_type": "stream",
          "text": [
            "tensor([[-0.2370, -0.1237, -0.1024,  ..., -0.1154, -0.1788, -0.1247],\n",
            "        [-0.1306, -0.1839, -0.2407,  ..., -0.1277, -0.2284, -0.1130],\n",
            "        [-0.2518, -0.1845, -0.1399,  ..., -0.2229, -0.2086, -0.1940],\n",
            "        ...,\n",
            "        [-0.0803, -0.1752, -0.2631,  ..., -0.2267, -0.1243, -0.1815],\n",
            "        [-0.2463, -0.0932, -0.1870,  ..., -0.1167, -0.0894, -0.2651],\n",
            "        [-0.2724, -0.1838, -0.2440,  ..., -0.1461, -0.1237, -0.2235]],\n",
            "       device='cuda:0')\n",
            "Adverserial loss : %  and Reconstruction loss = % (-0.20897905838489533, 0.0720263421535492)\n",
            "tensor([[-0.2394, -0.1264, -0.1055,  ..., -0.1175, -0.1813, -0.1272],\n",
            "        [-0.1331, -0.1866, -0.2440,  ..., -0.1299, -0.2311, -0.1155],\n",
            "        [-0.2539, -0.1868, -0.1426,  ..., -0.2248, -0.2109, -0.1962],\n",
            "        ...,\n",
            "        [-0.0818, -0.1770, -0.2651,  ..., -0.2282, -0.1258, -0.1833],\n",
            "        [-0.2482, -0.0955, -0.1896,  ..., -0.1185, -0.0914, -0.2672],\n",
            "        [-0.2740, -0.1856, -0.2461,  ..., -0.1477, -0.1253, -0.2253]],\n",
            "       device='cuda:0')\n",
            "Adverserial loss : %  and Reconstruction loss = % (-0.20897905838489533, 0.0688377246260643)\n",
            "tensor([[-0.2427, -0.1301, -0.1098,  ..., -0.1205, -0.1849, -0.1306],\n",
            "        [-0.1366, -0.1904, -0.2485,  ..., -0.1330, -0.2349, -0.1191],\n",
            "        [-0.2571, -0.1903, -0.1466,  ..., -0.2276, -0.2141, -0.1994],\n",
            "        ...,\n",
            "        [-0.0840, -0.1796, -0.2678,  ..., -0.2302, -0.1280, -0.1857],\n",
            "        [-0.2509, -0.0986, -0.1931,  ..., -0.1210, -0.0943, -0.2701],\n",
            "        [-0.2762, -0.1881, -0.2488,  ..., -0.1497, -0.1275, -0.2277]],\n",
            "       device='cuda:0')\n",
            "Adverserial loss : %  and Reconstruction loss = % (-0.20897905838489533, 0.0696156695485115)\n",
            "tensor([[-0.2459, -0.1336, -0.1139,  ..., -0.1234, -0.1882, -0.1339],\n",
            "        [-0.1401, -0.1943, -0.2530,  ..., -0.1361, -0.2387, -0.1226],\n",
            "        [-0.2602, -0.1939, -0.1507,  ..., -0.2305, -0.2174, -0.2027],\n",
            "        ...,\n",
            "        [-0.0861, -0.1820, -0.2705,  ..., -0.2323, -0.1300, -0.1881],\n",
            "        [-0.2537, -0.1017, -0.1966,  ..., -0.1236, -0.0971, -0.2731],\n",
            "        [-0.2784, -0.1907, -0.2516,  ..., -0.1519, -0.1296, -0.2302]],\n",
            "       device='cuda:0')\n",
            "Adverserial loss : %  and Reconstruction loss = % (-0.20897905838489533, 0.06815701723098755)\n",
            "tensor([[-0.2486, -0.1366, -0.1172,  ..., -0.1258, -0.1909, -0.1366],\n",
            "        [-0.1429, -0.1974, -0.2565,  ..., -0.1386, -0.2416, -0.1255],\n",
            "        [-0.2627, -0.1966, -0.1537,  ..., -0.2327, -0.2198, -0.2053],\n",
            "        ...,\n",
            "        [-0.0876, -0.1838, -0.2723,  ..., -0.2338, -0.1314, -0.1898],\n",
            "        [-0.2558, -0.1041, -0.1992,  ..., -0.1255, -0.0992, -0.2753],\n",
            "        [-0.2801, -0.1927, -0.2537,  ..., -0.1536, -0.1313, -0.2321]],\n",
            "       device='cuda:0')\n",
            "Adverserial loss : %  and Reconstruction loss = % (-0.20897905838489533, 0.07063894718885422)\n",
            "tensor([[-0.2507, -0.1390, -0.1199,  ..., -0.1278, -0.1930, -0.1389],\n",
            "        [-0.1451, -0.1999, -0.2594,  ..., -0.1407, -0.2440, -0.1279],\n",
            "        [-0.2648, -0.1989, -0.1563,  ..., -0.2346, -0.2219, -0.2075],\n",
            "        ...,\n",
            "        [-0.0889, -0.1853, -0.2738,  ..., -0.2351, -0.1326, -0.1913],\n",
            "        [-0.2575, -0.1061, -0.2014,  ..., -0.1272, -0.1009, -0.2773],\n",
            "        [-0.2816, -0.1944, -0.2555,  ..., -0.1550, -0.1326, -0.2337]],\n",
            "       device='cuda:0')\n",
            "Adverserial loss : %  and Reconstruction loss = % (-0.20897905838489533, 0.07015898078680038)\n",
            "tensor([[-0.2533, -0.1419, -0.1230,  ..., -0.1302, -0.1955, -0.1416],\n",
            "        [-0.1479, -0.2030, -0.2629,  ..., -0.1432, -0.2468, -0.1308],\n",
            "        [-0.2673, -0.2018, -0.1594,  ..., -0.2370, -0.2244, -0.2102],\n",
            "        ...,\n",
            "        [-0.0905, -0.1871, -0.2757,  ..., -0.2367, -0.1340, -0.1931],\n",
            "        [-0.2597, -0.1086, -0.2040,  ..., -0.1294, -0.1030, -0.2797],\n",
            "        [-0.2832, -0.1962, -0.2573,  ..., -0.1566, -0.1340, -0.2355]],\n",
            "       device='cuda:0')\n",
            "Adverserial loss : %  and Reconstruction loss = % (-0.20897905838489533, 0.06477724760770798)\n",
            "tensor([[-0.2546, -0.1434, -0.1246,  ..., -0.1314, -0.1967, -0.1431],\n",
            "        [-0.1494, -0.2046, -0.2646,  ..., -0.1445, -0.2482, -0.1323],\n",
            "        [-0.2685, -0.2032, -0.1609,  ..., -0.2382, -0.2255, -0.2115],\n",
            "        ...,\n",
            "        [-0.0911, -0.1879, -0.2765,  ..., -0.2373, -0.1346, -0.1938],\n",
            "        [-0.2607, -0.1097, -0.2052,  ..., -0.1303, -0.1039, -0.2808],\n",
            "        [-0.2839, -0.1970, -0.2582,  ..., -0.1573, -0.1346, -0.2363]],\n",
            "       device='cuda:0')\n",
            "Adverserial loss : %  and Reconstruction loss = % (-0.20897905838489533, 0.0701432153582573)\n",
            "tensor([[-0.2560, -0.1449, -0.1262,  ..., -0.1327, -0.1980, -0.1446],\n",
            "        [-0.1511, -0.2066, -0.2667,  ..., -0.1461, -0.2499, -0.1342],\n",
            "        [-0.2700, -0.2048, -0.1626,  ..., -0.2395, -0.2268, -0.2131],\n",
            "        ...,\n",
            "        [-0.0918, -0.1887, -0.2772,  ..., -0.2380, -0.1351, -0.1946],\n",
            "        [-0.2617, -0.1109, -0.2064,  ..., -0.1313, -0.1048, -0.2819],\n",
            "        [-0.2847, -0.1980, -0.2591,  ..., -0.1581, -0.1353, -0.2373]],\n",
            "       device='cuda:0')\n",
            "Adverserial loss : %  and Reconstruction loss = % (-0.20897905838489533, 0.0671730786561966)\n",
            "tensor([[-0.2572, -0.1464, -0.1277,  ..., -0.1339, -0.1992, -0.1459],\n",
            "        [-0.1525, -0.2082, -0.2684,  ..., -0.1474, -0.2513, -0.1358],\n",
            "        [-0.2710, -0.2061, -0.1638,  ..., -0.2405, -0.2278, -0.2143],\n",
            "        ...,\n",
            "        [-0.0923, -0.1893, -0.2778,  ..., -0.2385, -0.1356, -0.1952],\n",
            "        [-0.2626, -0.1120, -0.2075,  ..., -0.1322, -0.1056, -0.2829],\n",
            "        [-0.2852, -0.1986, -0.2597,  ..., -0.1586, -0.1358, -0.2378]],\n",
            "       device='cuda:0')\n",
            "Adverserial loss : %  and Reconstruction loss = % (-0.20897905838489533, 0.06475208699703217)\n"
          ],
          "name": "stdout"
        }
      ]
    },
    {
      "metadata": {
        "id": "4uH-SlxJmBxS",
        "colab_type": "code",
        "colab": {}
      },
      "cell_type": "code",
      "source": [
        "def imshow(img):\n",
        "    npimg = img.cpu().detach().numpy()\n",
        "    plt.imshow(np.transpose(npimg, (1,2,0)), interpolation='nearest')\n",
        "    plt.axis('off')\n",
        "    plt.show()"
      ],
      "execution_count": 0,
      "outputs": []
    },
    {
      "metadata": {
        "id": "SxsagAmPnl5D",
        "colab_type": "code",
        "colab": {
          "base_uri": "https://localhost:8080/",
          "height": 269
        },
        "outputId": "960a40b9-97ec-4ced-825c-d1709b2361ec"
      },
      "cell_type": "code",
      "source": [
        "#Testing\n",
        "testinputs = Variable(torch.tensor(np.random.normal(size = [100,2])).float().cuda())\n",
        "testoutputs = decoder(disc(testinputs))\n",
        "imshow(torchvision.utils.make_grid(testoutputs[:100],nrow=10))"
      ],
      "execution_count": 20,
      "outputs": [
        {
          "output_type": "display_data",
          "data": {
            "image/png": "[encoded data removed]",
            "text/plain": [
              "<Figure size 432x288 with 1 Axes>"
            ]
          },
          "metadata": {
            "tags": []
          }
        }
      ]
    },
    {
      "metadata": {
        "id": "jfvlpalau3bz",
        "colab_type": "code",
        "colab": {}
      },
      "cell_type": "code",
      "source": [
        ""
      ],
      "execution_count": 0,
      "outputs": []
    }
  ]
}